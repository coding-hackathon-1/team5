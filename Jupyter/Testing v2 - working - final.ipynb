{
 "cells": [
  {
   "cell_type": "code",
   "execution_count": 28,
   "metadata": {},
   "outputs": [],
   "source": [
    "import random as rd\n",
    "import pandas as pd\n",
    "import getpass as ps\n",
    "import random"
   ]
  },
  {
   "cell_type": "code",
   "execution_count": 29,
   "metadata": {},
   "outputs": [],
   "source": [
    "app_list = []\n",
    "df = pd.DataFrame()"
   ]
  },
  {
   "cell_type": "code",
   "execution_count": 30,
   "metadata": {},
   "outputs": [],
   "source": [
    "def edu_email():\n",
    "    email = input(\"Please enter your @student.hult.edu email: \")\n",
    "    if '@student.hult.edu' in email: \n",
    "        return email\n",
    "    else:\n",
    "        return edu_email()"
   ]
  },
  {
   "cell_type": "code",
   "execution_count": 31,
   "metadata": {},
   "outputs": [],
   "source": [
    "def new_user(): \n",
    "   \n",
    "    email = str(edu_email())\n",
    "\n",
    "\n",
    "    #---------------------------------------------------------------------------\n",
    "    \n",
    "    user_name = input(\"Enter your user name: \")\n",
    "    pass_word = ps.getpass(\"Password: \")\n",
    "    \n",
    "    #---------------------------------------------------------------------------\n",
    "\n",
    "    \n",
    "                \n",
    "    nation = input(\"What is your nationality? \")\n",
    "    \n",
    "    #---------------------------------------------------------------------------\n",
    "    \n",
    "    while True:\n",
    "        \n",
    "        lang_no = int(input(\"How many languages do you speak? (Max 5) \"))\n",
    "    \n",
    "        if lang_no == 1:\n",
    "            lang_1 = input(\"What language do you speak? \")\n",
    "            lang_2 = \"\"\n",
    "            lang_3 = \"\"\n",
    "            lang_4 = \"\"\n",
    "            lang_5 = \"\"\n",
    "            break\n",
    "        \n",
    "        elif lang_no == 2:\n",
    "            lang_1 = input(\"What language do you speak? \")\n",
    "            lang_2 = input(\"What is the second language you speak? \")\n",
    "            lang_3 = \"\"\n",
    "            lang_4 = \"\"\n",
    "            lang_5 = \"\"\n",
    "            break\n",
    "        \n",
    "        elif lang_no == 3:\n",
    "            lang_1 = input(\"What language do you speak? \")\n",
    "            lang_2 = input(\"What is the second language you speak? \")\n",
    "            lang_3 = input(\"What is the third language you speak? \")\n",
    "            lang_4 = \"\"\n",
    "            lang_5 = \"\"\n",
    "            break\n",
    "        \n",
    "        elif lang_no == 4:\n",
    "            lang_1 = input(\"What language do you speak? \")\n",
    "            lang_2 = input(\"What is the second language you speak? \")\n",
    "            lang_3 = input(\"What is the third language you speak? \")\n",
    "            lang_4 = input(\"What is the fourth language you speak? \")\n",
    "            lang_5 = \"\"\n",
    "            break\n",
    "        \n",
    "        else:\n",
    "            lang_1 = input(\"What language do you speak? \")\n",
    "            lang_2 = input(\"What is the second language you speak? \")\n",
    "            lang_3 = input(\"What is the third language you speak? \")\n",
    "            lang_4 = input(\"What is the fourth language you speak? \")\n",
    "            lang_5 = input(\"What is the fifth language you speak? \")\n",
    "            break\n",
    "            \n",
    "    #---------------------------------------------------------------------------\n",
    "    \n",
    "    print(\"Account Created\")\n",
    "    \n",
    "    types = (\"Blue\", \"Green\",\"Red\", \"Yellow\")\n",
    "    cohort = random.sample(types,1)\n",
    "    co = ''.join(cohort)\n",
    "    print(f\"You are in {co} Team!\")\n",
    "    \n",
    "    \n",
    "    \n",
    "    \n",
    "    app_list.append({\"user_name\" : user_name,\n",
    "                     \"password\" : pass_word,\n",
    "                     \"email\" : email,\n",
    "                     \"nation\" : nation,\n",
    "                     \"lang_no\" : lang_no,\n",
    "                     \"lang_1\" : lang_1,\n",
    "                     \"lang_2\" : lang_2,\n",
    "                     \"lang_3\" : lang_3,\n",
    "                     \"lang_4\" : lang_4,\n",
    "                     \"lang_5\" : lang_5,\n",
    "                     \"cohort\" : co})"
   ]
  },
  {
   "cell_type": "code",
   "execution_count": 32,
   "metadata": {},
   "outputs": [],
   "source": [
    "def old_user():\n",
    "    user_name = input(\"Enter your user name: \")\n",
    "    pass_word = ps.getpass(\"Password: \")\n",
    "    #if u_name == user_data['username']: #and pswd == user_data['password']:\n",
    "    \n",
    "    while True:\n",
    "        if str(user_name) in str(user_data['user_name']) and str(pass_word) in str(user_data['password']):\n",
    "            print(f\"Login successful, Welcome back {user_name}!\")\n",
    "            break\n",
    "    \n",
    "        else:\n",
    "            print(\"Invalid login, please try again.\")\n",
    "            return old_user()\n",
    "        \n",
    "    #else:\n",
    "        #print(\"User doesn't exist or wrong password!\")"
   ]
  },
  {
   "cell_type": "code",
   "execution_count": 34,
   "metadata": {},
   "outputs": [
    {
     "name": "stdout",
     "output_type": "stream",
     "text": [
      "  \n",
      "    If you are an existing user, input 'Log In'\n",
      "\n",
      "    If you are a new user, input 'Register'  \n",
      "\n",
      "    register\n",
      "Please enter your @student.hult.edu email: iabsurg@student.hult.edu\n",
      "Enter your user name: kjhfb\n",
      "Password: ········\n",
      "What is your nationality? irbg\n",
      "How many languages do you speak? (Max 5) 1\n",
      "What language do you speak? srgb\n",
      "Account Created\n",
      "You are in Red Team!\n"
     ]
    }
   ],
   "source": [
    "#defining if user is new or old\n",
    "#def login():\n",
    "while True:\n",
    "    user = input(\"\"\"  \n",
    "    If you are an existing user, input 'Log In'\n",
    "\n",
    "    If you are a new user, input 'Register'  \n",
    "\n",
    "    \"\"\")\n",
    "\n",
    "    if user.lower() == \"register\" :\n",
    "        new_user()\n",
    "        user_data = df.append(app_list, ignore_index = True)\n",
    "        user_data = user_data.reindex(columns = ['user_name', 'password', 'email', 'nation', 'lang_no', 'lang_1', \"lang_2\", \"lang_3\", \"lang_4\", \"lang_5\", \"cohort\"])\n",
    "        user_data.to_csv('user_data1.csv')\n",
    "        break\n",
    "\n",
    "\n",
    "    elif user.lower() == \"log in\":\n",
    "        old_user()\n",
    "        break\n",
    "\n",
    "\n",
    "    else:\n",
    "        print(\"Wrong input! Please enter 'Log In' or 'Register'\")"
   ]
  },
  {
   "cell_type": "code",
   "execution_count": 35,
   "metadata": {},
   "outputs": [
    {
     "data": {
      "text/html": [
       "<div>\n",
       "<style scoped>\n",
       "    .dataframe tbody tr th:only-of-type {\n",
       "        vertical-align: middle;\n",
       "    }\n",
       "\n",
       "    .dataframe tbody tr th {\n",
       "        vertical-align: top;\n",
       "    }\n",
       "\n",
       "    .dataframe thead th {\n",
       "        text-align: right;\n",
       "    }\n",
       "</style>\n",
       "<table border=\"1\" class=\"dataframe\">\n",
       "  <thead>\n",
       "    <tr style=\"text-align: right;\">\n",
       "      <th></th>\n",
       "      <th>user_name</th>\n",
       "      <th>password</th>\n",
       "      <th>email</th>\n",
       "      <th>nation</th>\n",
       "      <th>lang_no</th>\n",
       "      <th>lang_1</th>\n",
       "      <th>lang_2</th>\n",
       "      <th>lang_3</th>\n",
       "      <th>lang_4</th>\n",
       "      <th>lang_5</th>\n",
       "      <th>cohort</th>\n",
       "    </tr>\n",
       "  </thead>\n",
       "  <tbody>\n",
       "    <tr>\n",
       "      <th>0</th>\n",
       "      <td>kjhfb</td>\n",
       "      <td>asb</td>\n",
       "      <td>iabsurg@student.hult.edu</td>\n",
       "      <td>irbg</td>\n",
       "      <td>1</td>\n",
       "      <td>srgb</td>\n",
       "      <td></td>\n",
       "      <td></td>\n",
       "      <td></td>\n",
       "      <td></td>\n",
       "      <td>Red</td>\n",
       "    </tr>\n",
       "  </tbody>\n",
       "</table>\n",
       "</div>"
      ],
      "text/plain": [
       "  user_name password                     email nation  lang_no lang_1 lang_2  \\\n",
       "0     kjhfb      asb  iabsurg@student.hult.edu   irbg        1   srgb          \n",
       "\n",
       "  lang_3 lang_4 lang_5 cohort  \n",
       "0                         Red  "
      ]
     },
     "execution_count": 35,
     "metadata": {},
     "output_type": "execute_result"
    }
   ],
   "source": [
    "user_data"
   ]
  },
  {
   "cell_type": "code",
   "execution_count": null,
   "metadata": {},
   "outputs": [],
   "source": [
    "app_list"
   ]
  },
  {
   "cell_type": "code",
   "execution_count": null,
   "metadata": {},
   "outputs": [],
   "source": [
    "df"
   ]
  },
  {
   "cell_type": "code",
   "execution_count": 19,
   "metadata": {},
   "outputs": [],
   "source": []
  },
  {
   "cell_type": "code",
   "execution_count": 20,
   "metadata": {},
   "outputs": [
    {
     "ename": "NameError",
     "evalue": "name 'user_name' is not defined",
     "output_type": "error",
     "traceback": [
      "\u001b[0;31m---------------------------------------------------------------------------\u001b[0m",
      "\u001b[0;31mNameError\u001b[0m                                 Traceback (most recent call last)",
      "\u001b[0;32m<ipython-input-20-724d6709fef8>\u001b[0m in \u001b[0;36m<module>\u001b[0;34m\u001b[0m\n\u001b[0;32m----> 1\u001b[0;31m \u001b[0mpersonal_points\u001b[0m \u001b[0;34m=\u001b[0m \u001b[0;34m{\u001b[0m\u001b[0mpersonal_xp\u001b[0m\u001b[0;34m:\u001b[0m\u001b[0muser_name\u001b[0m\u001b[0;34m}\u001b[0m\u001b[0;34m\u001b[0m\u001b[0;34m\u001b[0m\u001b[0m\n\u001b[0m",
      "\u001b[0;31mNameError\u001b[0m: name 'user_name' is not defined"
     ]
    }
   ],
   "source": []
  },
  {
   "cell_type": "code",
   "execution_count": null,
   "metadata": {},
   "outputs": [],
   "source": []
  }
 ],
 "metadata": {
  "kernelspec": {
   "display_name": "Python 3",
   "language": "python",
   "name": "python3"
  },
  "language_info": {
   "codemirror_mode": {
    "name": "ipython",
    "version": 3
   },
   "file_extension": ".py",
   "mimetype": "text/x-python",
   "name": "python",
   "nbconvert_exporter": "python",
   "pygments_lexer": "ipython3",
   "version": "3.7.3"
  }
 },
 "nbformat": 4,
 "nbformat_minor": 2
}
