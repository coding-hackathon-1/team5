{
 "cells": [
  {
   "cell_type": "code",
   "execution_count": null,
   "metadata": {},
   "outputs": [],
   "source": [
    "import random as rd\n",
    "import pandas as pd\n",
    "import getpass as ps\n",
    "import random"
   ]
  },
  {
   "cell_type": "code",
   "execution_count": null,
   "metadata": {},
   "outputs": [],
   "source": [
    "app_list = []\n",
    "df = pd.DataFrame()"
   ]
  },
  {
   "cell_type": "code",
   "execution_count": null,
   "metadata": {},
   "outputs": [],
   "source": [
    "#Making sure it is hults email. \n",
    "def edu_email():\n",
    "    email = input(\"Please enter your @student.hult.edu email: \")\n",
    "    if '@student.hult.edu' in email: \n",
    "        return email\n",
    "    else:\n",
    "        return edu_email()"
   ]
  },
  {
   "cell_type": "code",
   "execution_count": null,
   "metadata": {},
   "outputs": [],
   "source": [
    "#Registering a new user\n",
    "def new_user(): \n",
    "   \n",
    "    email = str(edu_email())    \n",
    "    user_name = input(\"Enter your user name: \")\n",
    "    pass_word = ps.getpass(\"Password: \")              \n",
    "    nation = input(\"What is your nationality? \")\n",
    "    \n",
    "    #input languages spoken\n",
    "    while True:      \n",
    "        lang_no = int(input(\"How many languages do you speak? (Max 5) \"))\n",
    "        \n",
    "        if lang_no == 1:\n",
    "            lang_1 = input(\"What language do you speak? \")\n",
    "            lang_2 = \"\"\n",
    "            lang_3 = \"\"\n",
    "            lang_4 = \"\"\n",
    "            lang_5 = \"\"\n",
    "            break\n",
    "        \n",
    "        elif lang_no == 2:\n",
    "            lang_1 = input(\"What language do you speak? \")\n",
    "            lang_2 = input(\"What is the second language you speak? \")\n",
    "            lang_3 = \"\"\n",
    "            lang_4 = \"\"\n",
    "            lang_5 = \"\"\n",
    "            break\n",
    "        \n",
    "        elif lang_no == 3:\n",
    "            lang_1 = input(\"What language do you speak? \")\n",
    "            lang_2 = input(\"What is the second language you speak? \")\n",
    "            lang_3 = input(\"What is the third language you speak? \")\n",
    "            lang_4 = \"\"\n",
    "            lang_5 = \"\"\n",
    "            break\n",
    "        \n",
    "        elif lang_no == 4:\n",
    "            lang_1 = input(\"What language do you speak? \")\n",
    "            lang_2 = input(\"What is the second language you speak? \")\n",
    "            lang_3 = input(\"What is the third language you speak? \")\n",
    "            lang_4 = input(\"What is the fourth language you speak? \")\n",
    "            lang_5 = \"\"\n",
    "            break\n",
    "        \n",
    "        else:\n",
    "            lang_1 = input(\"What language do you speak? \")\n",
    "            lang_2 = input(\"What is the second language you speak? \")\n",
    "            lang_3 = input(\"What is the third language you speak? \")\n",
    "            lang_4 = input(\"What is the fourth language you speak? \")\n",
    "            lang_5 = input(\"What is the fifth language you speak? \")\n",
    "            break\n",
    "            \n",
    "    \n",
    "    print(\"Account Created\")\n",
    "    \n",
    "    #------------------------------------------------------------------------------------------\n",
    "    #Randomize the new account into the 4 cohorts\n",
    "    types = (\"Golden Gate Bridge\", \"Lombard Street\", \"Coit Tower\", \"Alcatraz Island\")\n",
    "    cohort = random.sample(types,1)\n",
    "    co = ''.join(cohort)\n",
    "    print(f\"You are in the {co} cohort!\")\n",
    "    \n",
    "    personal_xp = 0\n",
    "    \n",
    "    \n",
    "    app_list.append({\"user_name\" : user_name,\n",
    "                     \"password\" : pass_word,\n",
    "                     \"email\" : email,\n",
    "                     \"nation\" : nation,\n",
    "                     \"lang_no\" : lang_no,\n",
    "                     \"lang_1\" : lang_1,\n",
    "                     \"lang_2\" : lang_2,\n",
    "                     \"lang_3\" : lang_3,\n",
    "                     \"lang_4\" : lang_4,\n",
    "                     \"lang_5\" : lang_5,\n",
    "                     \"cohort\" : co,\n",
    "                     \"personal_xp\" : personal_xp})"
   ]
  },
  {
   "cell_type": "code",
   "execution_count": null,
   "metadata": {},
   "outputs": [],
   "source": [
    "#Cohort points DataFrame to csv file\n",
    "data = {'cohort':['Golden Gate Bridge', 'Lombard Street', 'Coit Tower', 'Alcatraz Island'], 'cohort_xp':[0,0,0,0]}\n",
    "cohort_data = pd.DataFrame(data)\n",
    "cohort_data.to_csv('cohort_data.csv')"
   ]
  },
  {
   "cell_type": "code",
   "execution_count": null,
   "metadata": {},
   "outputs": [],
   "source": [
    "#login existing user\n",
    "def old_user():\n",
    "    user_name = input(\"Enter your user name: \")\n",
    "    pass_word = ps.getpass(\"Password: \")\n",
    "    \n",
    "    while True:\n",
    "        if str(user_name) in str(user_data['user_name']) and str(pass_word) in str(user_data['password']):\n",
    "            print(f\"Login successful, Welcome back {user_name}!\")\n",
    "            break\n",
    "    \n",
    "        else:\n",
    "            print(\"Invalid login, please try again.\")\n",
    "            return old_user()"
   ]
  },
  {
   "cell_type": "code",
   "execution_count": null,
   "metadata": {},
   "outputs": [],
   "source": [
    "#defining if user is new or old\n",
    "while True:\n",
    "    user = input(\"\"\"  \n",
    "If you are an existing user, input 'Log In'\n",
    "If you are a new user, input 'Register'  \n",
    ">> \"\"\")\n",
    "\n",
    "    if user.lower() == \"register\" :\n",
    "        new_user()\n",
    "        user_data = df.append(app_list, ignore_index = True)\n",
    "        user_data = user_data.reindex(columns = ['user_name', 'password', 'email', 'nation', 'lang_no', 'lang_1', \"lang_2\", \"lang_3\", \"lang_4\", \"lang_5\", \"cohort\",\"personal_xp\"])\n",
    "        user_data.to_csv('user_data.csv')\n",
    "        break\n",
    "\n",
    "    elif user.lower() == \"log in\":\n",
    "        old_user()\n",
    "        break\n",
    "\n",
    "    else:\n",
    "        print(\"Wrong input! Please enter 'Log In' or 'Register'\")"
   ]
  },
  {
   "cell_type": "code",
   "execution_count": null,
   "metadata": {},
   "outputs": [],
   "source": [
    "user_data"
   ]
  },
  {
   "cell_type": "code",
   "execution_count": null,
   "metadata": {},
   "outputs": [],
   "source": [
    "#Trivia Questions and personal_xp generation for the user.\n",
    "\n",
    "user_name = str(input(\"Please enter your username: \"))\n",
    "user_data1 = user_data.set_index('user_name')\n",
    "cohort = str(user_data1.loc[user_name, \"cohort\"])\n",
    "personal_xp = int(user_data1.loc[user_name, \"personal_xp\"])\n",
    "trivia_xp = 0\n",
    "\n",
    "input(\"Enter trivia to do trivia!\")\n",
    "print(f\"\"\"\n",
    "________________________________________________________________________________________________________\n",
    "\n",
    "Welcome {user_name}, from the {cohort} cohort!\n",
    "\n",
    "Are you ready for this Geography Quiz? \n",
    "This quiz will allow you to gain up to 30 personal XP. \n",
    "The points you gain will also be added to your cohort's XP.\n",
    "You currently have {personal_xp} points. \n",
    "\n",
    "Remember, for wrong questions, you do not get any points nor re-dos!\"\"\")\n",
    "\n",
    "input(f\"\\n\\nPress Enter to start!\")\n",
    "\n",
    "  \n",
    "#-------------------------------------------------------------------------------------------------------\n",
    "quest_1 = input(\"\"\"\\n\n",
    "*Question 1*\n",
    "Which of this is not a continent? \n",
    "    a. North America\n",
    "    b. South Africa\n",
    "    c. Oceania\n",
    "    d. Asia \n",
    "\n",
    "Answer >>  \"\"\")\n",
    "\n",
    "quest_1 = quest_1.lower()                    \n",
    "if quest_1 == 'b':\n",
    "    print(\"Amazing!\")\n",
    "    personal_xp += 5\n",
    "    trivia_xp += 5\n",
    "else:\n",
    "    print(\"All of them are continents except South Africa, which is a country.\")\n",
    "    \n",
    "    \n",
    "quest_2 = input(\"\"\"\\n \n",
    "*Question 2*\n",
    "Is Antartica a country? I remember I saw a picture of their capital \"Iglü\".\n",
    "    a. Yes\n",
    "    b. No\n",
    "       \n",
    "Answer >> \"\"\")\n",
    "\n",
    "quest_2 = quest_2.lower()\n",
    "if quest_2 == 'b':\n",
    "    print(\"Great!\")\n",
    "    personal_xp += 5\n",
    "    trivia_xp += 5\n",
    "else:\n",
    "    print(\"Where did you see that? Antartica is a continent, not a country!\")\n",
    "\n",
    "    \n",
    "quest_3 = input(\"\"\"\\n\n",
    "*Question 3* \n",
    "Jakarta is in Asia, just like Juba, right? Is Juba in Asia?\n",
    "    a. Duh!\n",
    "    b. Of course not!\n",
    "       \n",
    "Answer >> \"\"\")\n",
    "\n",
    "quest_3 = quest_3.lower()            \n",
    "if quest_3 == 'b':\n",
    "    print(\"You are right!\")\n",
    "    personal_xp += 5\n",
    "    trivia_xp += 5\n",
    "else:\n",
    "    print(\"It is not! Juba is the capital of South Sudan, Africa!\") \n",
    "\n",
    "\n",
    "quest_4 = input(\"\"\"\\n \n",
    "*Question 4*\n",
    "Which is the only country to play in every World Cup?\n",
    "    a. Germany\n",
    "    b. Current Champs, France\n",
    "    c. Brasil\n",
    "    d. Netherlands\n",
    "                \n",
    "Answer >> \"\"\")\n",
    "\n",
    "quest_4 = quest_4.lower()\n",
    "if quest_4 == 'c':\n",
    "    print(\"That's correct!\")\n",
    "    personal_xp += 5\n",
    "    trivia_xp += 5\n",
    "else:\n",
    "    print(\"Brasil has never missed a World Cup and have been champions 5 times!\")\n",
    " \n",
    " \n",
    "quest_5 = input(\"\"\"\\n \n",
    "*Question 5*\n",
    "What is the capital city of Singapore?\n",
    "    a. Tampines\n",
    "    b. Jakarta\n",
    "    c. Kuala Lumpur\n",
    "    d. Singapore \n",
    "        \n",
    "Answer >> \"\"\")\n",
    "\n",
    "quest_5 = quest_5.lower()\n",
    "if quest_5 == 'd':\n",
    "    print(\"Amazing!\")\n",
    "    personal_xp += 5\n",
    "    trivia_xp += 5\n",
    "else:\n",
    "    print(\"Wrong! Singapore is the capital city of Singapore!\")\n",
    "    \n",
    "\n",
    "quest_6 = input(\"\"\"\\n \n",
    "*Question 6*\n",
    "Where is Papua New Guinea?\n",
    "    a. West Africa\n",
    "    b. South America\n",
    "    c. Oceania\n",
    "    d. Asia \n",
    "       \n",
    "Answer >> \"\"\")\n",
    "                      \n",
    "quest_6 = quest_6.lower()\n",
    "if quest_6 == 'c':\n",
    "    print(\"Good job!\")\n",
    "    personal_xp += 5\n",
    "    trivia_xp += 5\n",
    "else:\n",
    "    print(\"Wrong! It is in Oceania, Papua New Guinea is on top of Australia, beside Indonesia!\")  \n",
    "\n",
    "#add personal_xp to the username \n",
    "user_data.loc[user_data['user_name'] == user_name, ['personal_xp']] += personal_xp\n",
    "cohort_data.loc[cohort_data['cohort'] == cohort, ['cohort_xp']] += personal_xp\n",
    "\n",
    "#edit the csv files\n",
    "user_data.to_csv('user_data.csv')\n",
    "cohort_data.to_csv('cohort_data.csv')\n",
    "\n",
    "#Here we want to display the XP's that the person generated.\n",
    "print(f\"\\n\\nYou earned {trivia_xp} points from that round! Your total is now {personal_xp}!\")\n"
   ]
  },
  {
   "cell_type": "code",
   "execution_count": null,
   "metadata": {},
   "outputs": [],
   "source": []
  },
  {
   "cell_type": "code",
   "execution_count": null,
   "metadata": {},
   "outputs": [],
   "source": []
  },
  {
   "cell_type": "markdown",
   "metadata": {},
   "source": [
    "#Extract specific info from users. \n",
    "str(user_data.loc[0, \"cohort\"])"
   ]
  },
  {
   "cell_type": "markdown",
   "metadata": {},
   "source": [
    "#Extracting personal_xp from user.\n",
    "user_name = \"renee\"\n",
    "int(user_data1.loc[user_name, \"personal_xp\"])"
   ]
  },
  {
   "cell_type": "markdown",
   "metadata": {},
   "source": [
    "user_data.loc[user_data['user_name'] == \"r\", ['user_name']] = \"renee\""
   ]
  },
  {
   "cell_type": "markdown",
   "metadata": {
    "scrolled": true
   },
   "source": [
    "user_data"
   ]
  },
  {
   "cell_type": "markdown",
   "metadata": {},
   "source": [
    "user_data1 = user_data.set_index('user_name')"
   ]
  },
  {
   "cell_type": "markdown",
   "metadata": {},
   "source": [
    "user_data1"
   ]
  },
  {
   "cell_type": "code",
   "execution_count": null,
   "metadata": {},
   "outputs": [],
   "source": []
  },
  {
   "cell_type": "markdown",
   "metadata": {},
   "source": [
    "user_data.index.name = \"user_id\""
   ]
  },
  {
   "cell_type": "markdown",
   "metadata": {},
   "source": [
    "user_data1 = user_data.set_index('user_name')"
   ]
  },
  {
   "cell_type": "markdown",
   "metadata": {},
   "source": [
    "user_data1[\"password\"]"
   ]
  },
  {
   "cell_type": "code",
   "execution_count": null,
   "metadata": {},
   "outputs": [],
   "source": [
    "cohort_data"
   ]
  },
  {
   "cell_type": "code",
   "execution_count": null,
   "metadata": {},
   "outputs": [],
   "source": []
  }
 ],
 "metadata": {
  "kernelspec": {
   "display_name": "Python 3",
   "language": "python",
   "name": "python3"
  },
  "language_info": {
   "codemirror_mode": {
    "name": "ipython",
    "version": 3
   },
   "file_extension": ".py",
   "mimetype": "text/x-python",
   "name": "python",
   "nbconvert_exporter": "python",
   "pygments_lexer": "ipython3",
   "version": "3.7.3"
  }
 },
 "nbformat": 4,
 "nbformat_minor": 2
}
